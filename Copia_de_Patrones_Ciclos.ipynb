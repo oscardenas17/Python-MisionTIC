{
  "nbformat": 4,
  "nbformat_minor": 0,
  "metadata": {
    "colab": {
      "name": "Copia de Patrones Ciclos.ipynb",
      "provenance": [],
      "collapsed_sections": [],
      "include_colab_link": true
    },
    "kernelspec": {
      "name": "python3",
      "display_name": "Python 3"
    },
    "language_info": {
      "name": "python"
    }
  },
  "cells": [
    {
      "cell_type": "markdown",
      "metadata": {
        "id": "view-in-github",
        "colab_type": "text"
      },
      "source": [
        "<a href=\"https://colab.research.google.com/github/oscardenas17/Python-MisionTIC/blob/main/Copia_de_Patrones_Ciclos.ipynb\" target=\"_parent\"><img src=\"https://colab.research.google.com/assets/colab-badge.svg\" alt=\"Open In Colab\"/></a>"
      ]
    },
    {
      "cell_type": "markdown",
      "metadata": {
        "id": "0D97yNm_3Fj3"
      },
      "source": [
        "# Laboratorio 4.1\n",
        "Elaborado por Oscar Franco-Bedoya\n",
        "\n",
        "`Proyecto Mision TIC 2021\n",
        "\n",
        "## Objetivo\n",
        "Implementar programas aplicando el concepto de control de flujo ciclico en ejemplos básicos basados en patrones de ciclos. \n",
        "\n",
        "# Conde Contar\n",
        "\n",
        "El conde contar es un personaje de plaza sésamo cuyo rol era enseñar a contar **\"lentamente y también de prisa\"**, pregunten a sus papas o abuelos que seguro sabrán más de este personaje.\n",
        "\n",
        "Vamos a implementar una función que nos recuerde a este Vampiro contador.\n",
        "\n",
        "\n",
        "\n",
        "\n",
        "\n",
        "\n",
        "\n",
        "\n"
      ]
    },
    {
      "cell_type": "code",
      "metadata": {
        "id": "fjTf12uTYbi5"
      },
      "source": [
        "\"\"\" Programa Conde contar#\n",
        "    cuenta numeos consecutivamente \n",
        "    desde 1 hasta un límite dado\n",
        "    Oscar Franco-Bedoya\n",
        "    Mayo 10-2021 \"\"\"\n",
        "\n",
        "def conde_contar(limite):\n",
        "  \"\"\" \n",
        "  Parameters\n",
        "  ----------\n",
        "  limite:int\n",
        "     valor hasta el cual el conde contará \n",
        "  \"\"\" \n",
        "  print(\"Cuento len  ta   men      te\")\n",
        "  print(\"y también de prisa\")\n",
        "  print(\"y sin corta prisa \")\n",
        "  print(\"cuento sin parar\")\n",
        "  \n",
        "  cont=1 #Inicializa el contador\n",
        "  while cont <= limite:\n",
        "    print(cont)\n",
        "    cont+=1 #incrementa el contador \n",
        "    \n",
        "  print(\"y a veces llego a mil \")\n",
        "\n",
        "#====================================================================\n",
        "#   Algoritmo principal Punto de entrada a la aplicación (Conquistar)\n",
        "# ===================================================================\n",
        "\n",
        "limite_conteo=int(input(\"Digite el número hasta el cual el conde debe contar:\"))\n",
        "#Validacion del valor de entrada\n",
        "if limite_conteo <= 0:\n",
        "  print(\"Lo siento el conde solo cuenta hasta numeros mayores a cero\") \n",
        "else:\n",
        "  conde_contar(limite_conteo)\n",
        "\n"
      ],
      "execution_count": null,
      "outputs": []
    },
    {
      "cell_type": "markdown",
      "metadata": {
        "id": "eL9XQSseYb38"
      },
      "source": [
        "# Sumatoria natural\n",
        "Si bien el conteo de numeros es muy útil e importante para varios algoritmos, con base en este patron podemos realizar otros ejercicios como por ejemplo la sumatoria de numeros consecutivos.\n",
        "\n",
        "\n",
        "$$suma=1+2+3+4+5+6....$$\n"
      ]
    },
    {
      "cell_type": "code",
      "metadata": {
        "id": "LDse8mo6mDNb",
        "colab": {
          "base_uri": "https://localhost:8080/"
        },
        "outputId": "221209ff-dcbb-453f-d33c-26020467b470"
      },
      "source": [
        "\"\"\" Programa Sumatoria#\n",
        "    Calcula la sumatoria\n",
        "    de numeros desde 1 hasta\n",
        "    un limite dado\n",
        "    Oscar Franco-Bedoya\n",
        "    Mayo 10-2021 \"\"\"\n",
        "\n",
        "def calcular_sumatoria(limite):\n",
        "  \"\"\" \n",
        "  Parameters\n",
        "  ----------\n",
        "  limite:int\n",
        "     valor hasta el cual se realizará la sumatoria\n",
        "  Returns\n",
        "  -------\n",
        "  sumatoria:float\n",
        "    el resultado de la sumatoria     \n",
        "  \"\"\"     \n",
        "  \n",
        "  cont=1 #Inicializa el contador\n",
        "  sumatoria=0 #inicializa la suma en 0\n",
        "  while cont <= limite: \n",
        "    sumatoria=sumatoria+cont # Realiza la suma\n",
        "    cont+=1 #incrementa el contador\n",
        "  return sumatoria  \n",
        " \n",
        "#====================================================================\n",
        "#   Algoritmo principal Punto de entrada a la aplicación (Conquistar)\n",
        "# ===================================================================\n",
        "\n",
        "limite_sumatoria=int(input(\"Digite el número hasta el cual realizará la sumatoria:\"))\n",
        "#Validacion del valor de entrada\n",
        "if limite_sumatoria <= 0:\n",
        "  print(\"debe ingresar un número mayor a cero\") \n",
        "else:\n",
        "  suma_total=calcular_sumatoria(limite_sumatoria)\n",
        "  print(\"El valor de la sumatoria es:\",suma_total)\n"
      ],
      "execution_count": null,
      "outputs": [
        {
          "output_type": "stream",
          "text": [
            "Digite el número hasta el cual realizará la sumatoria:3\n",
            "El valor de la sumatoria es: 6\n"
          ],
          "name": "stdout"
        }
      ]
    },
    {
      "cell_type": "markdown",
      "metadata": {
        "id": "p4z0n-M4vgcC"
      },
      "source": [
        "#Sumatoria par-ce\n",
        "\n",
        "Este ejercicio es muy similar al anterior, deseamos una función que calcule la sumatoria de los **N** primeros números pares.\n",
        "\n",
        "$$Sumaoria= 2+4+6+8+10+...$$\n",
        "\n",
        "!Vamos a hacerlo!\n",
        "\n",
        "\n",
        "<details>\n",
        "<summary>Dale a la flecha si necesitas una pista</summary>\n",
        "<pre><code>\n",
        "Estas a un *2 de hacerlo ;-)\n",
        "\n",
        "<code><pre>\n",
        "</details>"
      ]
    },
    {
      "cell_type": "code",
      "metadata": {
        "id": "AriA8nkMwaQH",
        "colab": {
          "base_uri": "https://localhost:8080/"
        },
        "outputId": "a41223b8-423c-4fec-f34b-7b3a36cc031c"
      },
      "source": [
        "#TODO Sumatoria de numeros pares\n",
        "def calcular_sumatoria(limite):\n",
        "  \"\"\" \n",
        "  Parameters\n",
        "  ----------\n",
        "  limite:int\n",
        "     valor hasta el cual se realizará la sumatoria\n",
        "  Returns\n",
        "  -------\n",
        "  sumatoria:float\n",
        "    el resultado de la sumatoria     \n",
        "  \"\"\"     \n",
        "  \n",
        "  cont=1 #Inicializa el contador\n",
        "  sumatoria=0 #inicializa la suma en 0\n",
        "  while cont <= limite: \n",
        "    pares = cont*2 # Realiza la suma    1*2 2    2*2  4    3*2  6\n",
        "    sumatoria = sumatoria + pares  #    0+2 2    2+4  6    6+6 12\n",
        "    cont+=1 #incrementa el contador     3\n",
        "  return sumatoria  \n",
        " \n",
        "#====================================================================\n",
        "#   Algoritmo principal Punto de entrada a la aplicación (Conquistar)\n",
        "# ===================================================================\n",
        "\n",
        "limite_sumatoria=int(input(\"Digite el número hasta el cual realizará la sumatoria:\"))\n",
        "#Validacion del valor de entrada\n",
        "if limite_sumatoria <= 0:\n",
        "  print(\"debe ingresar un número mayor a cero\") \n",
        "else:\n",
        "  suma_total=calcular_sumatoria(limite_sumatoria)\n",
        "  print(\"El valor de la sumatoria es:\",suma_total)"
      ],
      "execution_count": 8,
      "outputs": [
        {
          "output_type": "stream",
          "text": [
            "Digite el número hasta el cual realizará la sumatoria:7\n",
            "El valor de la sumatoria es: 56\n"
          ],
          "name": "stdout"
        }
      ]
    },
    {
      "cell_type": "markdown",
      "metadata": {
        "id": "T6Fm0uh9k7Qu"
      },
      "source": [
        "# Lista del mercado\n",
        "En este ejercicio vamos a implementar una aplicación mucho mejor para don José el de la tienda, ¿Lo recuerdas?, esta vez le permitirá registrar el precio de una cantidad de productos vendidos y calcule el total a pagar por parte del cliente"
      ]
    },
    {
      "cell_type": "code",
      "metadata": {
        "id": "XXJqcZj0lZHg"
      },
      "source": [
        "\"\"\" Programa costo lista de mercado#\n",
        "    Calcula el total a pagar por\n",
        "    una cantidad de productos\n",
        "    Oscar Franco-Bedoya\n",
        "    Mayo 10-2021 \"\"\"\n",
        "\n",
        "def calcular_total_pago(numero_productos):\n",
        "  \"\"\" \n",
        "  Parameters\n",
        "  ----------\n",
        "  numero_productos:int\n",
        "     numero de productos cuyo precio se va a sumar\n",
        "  Returns\n",
        "  ------\n",
        "  tolat_pago:float\n",
        "    el total de dinero a pagar     \n",
        "  \"\"\"     \n",
        "  \n",
        "  cont=1 #Inicializa el contador\n",
        "  total_pago=0 #el total a pagar\n",
        "  while cont <= numero_productos:\n",
        "    precio=float(input(\"Digite el precio del producto:\"))\n",
        "    total_pago=total_pago+precio # va acumulando los precios\n",
        "    cont+=1 #incrementa el contador\n",
        "  return total_pago \n",
        " \n",
        "#====================================================================\n",
        "#   Algoritmo principal Punto de entrada a la aplicación (Conquistar)\n",
        "# ===================================================================\n",
        "\n",
        "cantidad_productos=int(input(\"Digite el total de productos a sumar:\"))\n",
        "#Validacion del valor de entrada\n",
        "if cantidad_productos <= 0:\n",
        "  print(\"No has comprado nada, no debes pagar\") \n",
        "else:\n",
        "  total_a_pagar=calcular_total_pago(cantidad_productos)\n",
        "  print(\"El valor  pagar por los productos es:$\",total_a_pagar) "
      ],
      "execution_count": null,
      "outputs": []
    },
    {
      "cell_type": "markdown",
      "metadata": {
        "id": "FQM5DqxOoiEE"
      },
      "source": [
        "# Lista del mercado mi vecino fiel\n",
        "Don José está entrando en el tema de las industria 4.0 y ha pensado en un plan de fidelizacón de clientes otorgando un descuento del 5% a los que esten en su campaña **mi vecino fiel**, para ello  en este ejercicio vamos a implementar una aplicación similar a la anterior pero que pregunte si el cliente esta en la campaña vecino fiel y de esta manera calcule el total a pagar pero con descuento.\n",
        "\n",
        "\n"
      ]
    },
    {
      "cell_type": "code",
      "metadata": {
        "id": "68HjVabLk0u7",
        "colab": {
          "base_uri": "https://localhost:8080/"
        },
        "outputId": "e68aee2f-f733-4850-a384-a87b94880961"
      },
      "source": [
        "\"\"\" Programa costo lista de mercado mi vecino fiel#\n",
        "    Calcula el total a pagar por\n",
        "    una cantidad de productos en\n",
        "    el plan mi vecino fiel\n",
        "    Oscar Franco-Bedoya\n",
        "    Mayo 10-2021 \"\"\"\n",
        "\n",
        "def calcular_total_pago(numero_productos,es_fiel):\n",
        "  \"\"\" \n",
        "  Parameters\n",
        "  ----------\n",
        "  numero_productos:int\n",
        "     numero de productos cuyo precio se va a sumar\n",
        "  Returns\n",
        "  ------\n",
        "  tolat_pago:float\n",
        "    el total de dinero a pagar     \n",
        "  \"\"\"     \n",
        "  \n",
        "  cont=1 #Inicializa el contador\n",
        "  total_pago=0 #el total a pagar\n",
        "  while cont <= numero_productos:\n",
        "    precio=float(input(\"Digite el precio del producto:\"))\n",
        "    total_pago=total_pago+precio # va acumulando los precios\n",
        "    cont+=1 #incrementa el contador\n",
        "    \n",
        "  if es_fiel == 'SI':\n",
        "     descuento = (0.5* total_pago)/100\n",
        "     total_pago = total_pago - descuento \n",
        "    #TODO: 1) completar el codigo \n",
        "  \n",
        "  return total_pago\n",
        " \n",
        "#====================================================================\n",
        "#   Algoritmo principal Punto de entrada a la aplicación (Conquistar)\n",
        "# ===================================================================\n",
        "\n",
        "cantidad_productos=int(input(\"Digite el total de productos a sumar:\"))\n",
        "#Validacion del valor de entrada\n",
        "if cantidad_productos <= 0:\n",
        "  print(\"No has comprado nada, no debes pagar\") \n",
        "else:\n",
        "  #TODO: 2) completar el codigo \n",
        "  fiel = input('Es cliente Fiel? escribe, SI - NO: ').upper()\n",
        "  total_a_pagar=calcular_total_pago(cantidad_productos,fiel)\n",
        "  print(\"El valor  pagar por los productos es:$\",total_a_pagar) \n",
        "  #TODO: 3) completar el codigo \n",
        "  if  fiel == 'SI':\n",
        "    print('Gracias por ser cliente fiel')\n",
        "\n"
      ],
      "execution_count": null,
      "outputs": [
        {
          "output_type": "stream",
          "text": [
            "Digite el total de productos a sumar:2\n",
            "Es cliente Fiel? escribe, SI - NO: SI\n",
            "Digite el precio del producto:1000\n",
            "Digite el precio del producto:1000\n",
            "El valor  pagar por los productos es:$ 1990.0\n",
            "Gracias por ser cliente fiel\n"
          ],
          "name": "stdout"
        }
      ]
    },
    {
      "cell_type": "markdown",
      "metadata": {
        "id": "WU-8A6CklXa-"
      },
      "source": [
        "\n",
        "<details>\n",
        "<summary>Dale a la flecha si necesitas una pista</summary>\n",
        "<pre><code>\n",
        "1) Calcula aquí el descuento antes de retornar\n",
        "2) Como sé que es vecino fiel? fácil de frente Pregúntaselo\n",
        "3) Que tal un mensaje agradeciendo su fidelidad. Cuidado solo si es fiel\n",
        "\n",
        "<code><pre>\n",
        "</details>\n",
        "\n",
        "# Lista del mercado productos a vencer\n",
        "Don José ya no lo para nadie en su deseo de su tienda 4.0, ahora quiere que además del descuento del vecino fiel, se haga un descuento a los productos que están por vencer, este descuento será del 5% y aplicable tanto a vecinos fieles como infieles ;-). \n",
        "\n",
        "Ni modo, implementemos este nuevo programa, don José es nuestro mejor cliente y usuario\n",
        "\n"
      ]
    },
    {
      "cell_type": "code",
      "metadata": {
        "id": "_4mNsv6gtdvB",
        "colab": {
          "base_uri": "https://localhost:8080/"
        },
        "outputId": "2f70fc49-0cb0-4d55-b773-09de1a187656"
      },
      "source": [
        "\"\"\" Programa costo lista de mercado productos a vencer#\n",
        "    Calcula el total a pagar por\n",
        "    una cantidad de productos algunos posiblemente próximos a vencer\n",
        "    Oscar Franco-Bedoya\n",
        "    Mayo 10-2021 \"\"\"\n",
        "\n",
        "def calcular_total_pago(numero_productos,es_fiel, vencido):\n",
        "  \"\"\" \n",
        "  Parameters\n",
        "  ----------\n",
        "  numero_productos:int\n",
        "     numero de productos cuyo precio se va a sumar\n",
        "  Returns\n",
        "  ------\n",
        "  tolat_pago:float\n",
        "    el total de dinero a pagar     \n",
        "  \"\"\"     \n",
        "  \n",
        "  cont=1 #Inicializa el contador\n",
        "  total_pago=0 #el total a pagar\n",
        "  while cont <= numero_productos:\n",
        "    precio=float(input(\"Digite el precio del producto:\"))\n",
        "    total_pago=total_pago+precio # va acumulando los precios\n",
        "    cont+=1 #incrementa el contador\n",
        "\n",
        "  if es_fiel == 'SI' and vencido == 'SI': \n",
        "      descuento = (total_pago*10)/100\n",
        "      print('el descuento es', descuento)\n",
        "      total_pago = total_pago - descuento\n",
        "  elif es_fiel    == 'SI': \n",
        "      descuento = (5*total_pago)/100\n",
        "      print('el descuento es', descuento)\n",
        "      total_pago = total_pago - descuento \n",
        "  elif vencido == 'SI': \n",
        "      descuento = (5*total_pago)/100\n",
        "      print('el descuento es', descuento)\n",
        "      total_pago = total_pago - descuento\n",
        "    #TODO: 1) completar el codigo \n",
        "\n",
        "  return total_pago\n",
        "\n",
        "#====================================================================\n",
        "#   Algoritmo principal Punto de entrada a la aplicación (Conquistar)\n",
        "# ===================================================================\n",
        "\n",
        "cantidad_productos=int(input(\"Digite el total de productos a sumar:\"))\n",
        "#Validacion del valor de entrada\n",
        "if cantidad_productos <= 0:\n",
        "  print(\"No has comprado nada, no debes pagar\") \n",
        "else:\n",
        "  #TODO: 2) completar el codigo \n",
        "  fiel = input('Es cliente Fiel? escribe, SI - NO: ').upper()\n",
        "  vencido = input('El producto esta proximo a vencer? escribe, SI - NO: ').upper()\n",
        "  total_a_pagar=calcular_total_pago(cantidad_productos,fiel, vencido)\n",
        "  print(\"El valor  pagar por los productos es:$\",total_a_pagar) \n",
        "  #TODO: 3) completar el codigo \n",
        "  if  fiel == 'SI':\n",
        "    print('Gracias por ser cliente fiel')\n"
      ],
      "execution_count": 21,
      "outputs": [
        {
          "output_type": "stream",
          "text": [
            "Digite el total de productos a sumar:2\n",
            "Es cliente Fiel? escribe, SI - NO: no\n",
            "El producto esta proximo a vencer? escribe, SI - NO: si\n",
            "Digite el precio del producto:1000\n",
            "Digite el precio del producto:1000\n",
            "el descuento es 100.0\n",
            "El valor  pagar por los productos es:$ 1900.0\n"
          ],
          "name": "stdout"
        }
      ]
    },
    {
      "cell_type": "markdown",
      "metadata": {
        "id": "lPRx1lj9uA8k"
      },
      "source": [
        "\n",
        "<details>\n",
        "<summary>Dale a la flecha si necesitas una pista</summary>\n",
        "<pre><code>\n",
        "+ Respira profundo, cuenta hasta 3 y suelta el aire lentamente\n",
        "+ Repite mentalmente 3 veces: Puedo con esto!!\n",
        "+ que tal si después de leer el costo de un producto preguntas si está en descuento y luego un tema que ya dominamos, expresiones lógicas\n",
        "\n",
        "\n",
        "<code><pre>\n",
        "</details>\n",
        "\n",
        "# Lista de compras\n",
        "Como estan de moda las lluvias de sobres, a mi sobrina Cami le han dado una cantidad de dinero y ha salido de compras al centro comercial y en sus palabras me ha dicho:\n",
        "\n",
        "\n",
        "*Holis tio, quiero una app super que me permita ingresar cada compra que haga y me muestre cuanta plata me va quedando hasta que se termine, Literal no quiero gastar mas*  \n",
        "\n"
      ]
    },
    {
      "cell_type": "code",
      "metadata": {
        "id": "po5y0XStP4H-"
      },
      "source": [
        "\"\"\" Programa costo lista de mercado#\n",
        "    Calcula el total a pagar por\n",
        "    una cantidad de productos\n",
        "    Oscar Franco-Bedoya\n",
        "    Mayo 10-2021 \"\"\"\n",
        "\n",
        "def mostrar_dinero_disponible(total_dinero):\n",
        "  \"\"\" \n",
        "  Parameters\n",
        "  ----------\n",
        "  total_dinero:float\n",
        "     cantidad de dinero a gastar\n",
        "  Returns\n",
        "  ------\n",
        "  saldo :float\n",
        "    dinero que sobra      \n",
        "  \"\"\"     \n",
        "  \n",
        "  while total_dinero > 0:\n",
        "    precio=float(input(\"Digite el precio del producto comprado:\"))\n",
        "    if precio<=total_dinero: #verifica que con el dineo que aún le queda puede comprarlo\n",
        "      total_dinero=total_dinero-precio # va actualizando el dinero\n",
        "    else:\n",
        "      print(\"No puedes comprar ese producto\")\n",
        "    print(\"Aún te quedan $\",total_dinero,\"para gastar\")\n",
        "  return total_dinero \n",
        " \n",
        "#====================================================================\n",
        "#   Algoritmo principal Punto de entrada a la aplicación (Conquistar)\n",
        "# ===================================================================\n",
        "\n",
        "cantidad_dinero=int(input(\"Digite el total de dinero a gastar:\"))\n",
        "#Validacion del valor de entrada\n",
        "if cantidad_dinero <= 0:\n",
        "  print(\"No tienes dinero para gastar\") \n",
        "else:\n",
        "  saldo=mostrar_dinero_disponible(cantidad_dinero)\n",
        "  print(\"Buena compra y te quedarons:$\",saldo) "
      ],
      "execution_count": null,
      "outputs": []
    },
    {
      "cell_type": "markdown",
      "metadata": {
        "id": "amfnzvPsNZgS"
      },
      "source": [
        "# Lector validador\n",
        "Una frase muy conocida en el desarrollo de programas es *garbage in garbage out* para significar que si se entran datos erróneos a un sistema se obtendrán seguramente datos incorrectos.\n",
        "\n",
        "Una forma de minimizar el problema es validar los datos de entrada a la aplicación. El siguiente programa lee un numero entero positivo, validando que sea correcto\n"
      ]
    },
    {
      "cell_type": "code",
      "metadata": {
        "colab": {
          "base_uri": "https://localhost:8080/"
        },
        "id": "o-nWi_DBYajP",
        "outputId": "530a02c1-ab7b-4ab8-f2e7-efd81e2a8f06"
      },
      "source": [
        "\"\"\" Programa lector enteros#\n",
        "    lee un numero entero positivo válido\n",
        "    Oscar Franco-Bedoya\n",
        "    Mayo 10-2021 \"\"\"\n",
        "\n",
        "def leer_entero_positivo():\n",
        "  \"\"\" \n",
        "  Returns\n",
        "  ------\n",
        "  numero :int\n",
        "    número entero positivo       \n",
        "  \"\"\"     \n",
        "  entero_cadena=\"\"\n",
        "  while not entero_cadena.isdigit(): # la cadena no contiene un entero positrivo\n",
        "    entero_cadena=input(\"Digite un número entero positivo:\")\n",
        "    if entero_cadena.isdigit(): # el numero digitado es válido\n",
        "      return int(entero_cadena)\n",
        "    else:\n",
        "      print(\"Los números enteros positivos solo tienen digitos\" )  \n",
        "\n",
        "  return null \n",
        " \n",
        "#====================================================================\n",
        "#   Algoritmo principal Punto de entrada a la aplicación (Conquistar)\n",
        "# ===================================================================\n",
        "\n",
        "numero=leer_entero_positivo()\n",
        "print(numero)"
      ],
      "execution_count": null,
      "outputs": [
        {
          "output_type": "stream",
          "text": [
            "Digite un número entero positivo:-555\n",
            "Los números enteros positivos solo tienen digitos\n",
            "Digite un número entero positivo:5555\n",
            "5555\n"
          ],
          "name": "stdout"
        }
      ]
    },
    {
      "cell_type": "markdown",
      "metadata": {
        "id": "TKEy_UX9fmau"
      },
      "source": [
        "---\n",
        "FIN LABORATORIO\n",
        "---\n"
      ]
    }
  ]
}